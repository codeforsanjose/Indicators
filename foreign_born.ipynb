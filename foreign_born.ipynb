{
 "cells": [
  {
   "cell_type": "code",
   "execution_count": 3,
   "metadata": {
    "collapsed": true
   },
   "outputs": [],
   "source": [
    "from census import Census\n",
    "from us import states\n",
    "import numpy as np\n",
    "import plotly.plotly as py\n",
    "import plotly.graph_objs as go"
   ]
  },
  {
   "cell_type": "code",
   "execution_count": 4,
   "metadata": {
    "collapsed": true
   },
   "outputs": [],
   "source": [
    "c = Census('b7481dc4386312d10c09a76f32719d3940b75c40')"
   ]
  },
  {
   "cell_type": "code",
   "execution_count": 13,
   "metadata": {
    "collapsed": false
   },
   "outputs": [],
   "source": [
    "def fgn_born_ca(year):\n",
    "    #CA naturalized citizen \n",
    "    ca_nat = c.acs5.state('B05001_005E',states.CA.fips,year=year)\n",
    "    #CA Non US\n",
    "    ca_nus =  c.acs5.state('B05001_006E',states.CA.fips,year=year)\n",
    "    #total naturalization for CA (CA naturalized + CA non US)\n",
    "    #sum of naturalized citizen\n",
    "    tot_ca_nat = 0\n",
    "    for item in ca_nat:\n",
    "        tot_ca_nat = tot_ca_nat + int(item['B05001_005E'])\n",
    "    #total non us citizen CA\n",
    "    tot_ca_nus = 0\n",
    "    for item in ca_nus:\n",
    "        tot_ca_nus = tot_ca_nus + item['B05001_006E']\n",
    "    \n",
    "    total_foreign_ca = tot_ca_nat + tot_ca_nus\n",
    "    #total CA population including citizens.\n",
    "    total_ca = c.acs5.state('B05001_002E',states.CA.fips,year=2015)\n",
    "    tot_ca = 0\n",
    "    for item in total_ca:\n",
    "        tot_ca =  tot_ca + item['B05001_002E']\n",
    "    #percentile total foreign born/ total CA citizens\n",
    "    per_fgn_ca = total_foreign_ca/tot_ca\n",
    "    #percentage for foreign born in CA total foreign born(divided by)total CA population.\n",
    "    ptg_fgn_ca = per_fgn_ca * 100\n",
    "    ptg_fgn_ca=round(ptg_fgn_ca,2)\n",
    "    return ptg_fgn_ca\n",
    "\n",
    "#Total percentage of foreign born in US.\n",
    "#(total US naturalized citizen + non us citizen)/Total US poplulation.\n",
    "def fgn_born_us(year):\n",
    "    #foreign population in US\n",
    "    us_nus = c.acs5.state('B05001_006E',Census.ALL,year=year)\n",
    "    #total non US citizen in US.\n",
    "    tot_us_nus = 0\n",
    "    for item in us_nus:\n",
    "        if(item['B05001_006E'] is not None):\n",
    "            tot_us_nus =  tot_us_nus + item['B05001_006E']\n",
    "    #total naturalized citizen in US - foreign born \n",
    "    us_nat = c.acs5.state('B05001_005E',Census.ALL,year=year)\n",
    "    #summing the naturalized citizen\n",
    "    tot_us_nat = 0\n",
    "    for item in us_nat:\n",
    "        if(item['B05001_005E'] is not None):\n",
    "            tot_us_nat =  tot_us_nat + item['B05001_005E']\n",
    "    #total foreign born = non US + naturalized.\n",
    "    total_fgn_us = tot_us_nat+tot_us_nus\n",
    "    #total us population\n",
    "    tot_us = c.acs5.state('B05001_001E',Census.ALL,year=year)\n",
    "    total_us = 0\n",
    "    for item in tot_us:\n",
    "        if(item['B05001_001E'] is not None):\n",
    "            total_us = total_us + int(item['B05001_001E'])\n",
    "    #percent of foreign born\n",
    "    per_fgn_us = total_fgn_us/total_us\n",
    "    #percentage of foreign born\n",
    "    ptg_fgn_us = per_fgn_us * 100\n",
    "    ptg_fgn_us = round(ptg_fgn_us,2)\n",
    "    return ptg_fgn_us\n",
    "\n",
    "\n",
    "#foreign born in san francisco county.\n",
    "def fgn_born_sf(year):\n",
    "    #Total non us citizens in SF county\n",
    "    sf_nus = c.acs5.state_county('B05001_006E', states.CA.fips, '075', year=year)\n",
    "    tot_sf_nus = 0\n",
    "    for item in sf_nus:\n",
    "        tot_sf_nus =  tot_sf_nus + item['B05001_006E']\n",
    "    #total number of naturalized citizens in SF, since they are foreign born.\n",
    "    sf_nat = c.acs5.state_county('B05001_005E', states.CA.fips, '075', year=year)\n",
    "    tot_sf_nat = 0\n",
    "    for item in sf_nat:\n",
    "        tot_sf_nat =  tot_sf_nat + item['B05001_005E']\n",
    "    total_fgn_sf = tot_sf_nat+tot_sf_nus\n",
    "    #total sf population\n",
    "    total_sf = c.acs5.state_county('B05001_002E', states.CA.fips, '075', year=year)\n",
    "    tot_sf = 0\n",
    "    for item in total_sf:\n",
    "        tot_sf =  tot_sf + item['B05001_002E']\n",
    "    #(total SF naturalized citizen + non us citizen)/Total SF poplulation for percentage.\n",
    "    per_fgn_sf = total_fgn_sf/tot_sf\n",
    "    ptg_fgn_sf = per_fgn_sf * 100\n",
    "    ptg_fgn_sf = round(ptg_fgn_sf,2)\n",
    "    return ptg_fgn_sf\n",
    "\n",
    "#foreign born in Silicon valley(Santa Clara county + San Mateo County)\n",
    "def fgn_born_sv(year):\n",
    "    #sc naturalized citizens\n",
    "    santa_clara_nat = c.acs5.state_county('B05001_005E', states.CA.fips, '085', year=year)\n",
    "    tot_sc_nat = 0\n",
    "    for item in santa_clara_nat:\n",
    "        tot_sc_nat =  tot_sc_nat + item['B05001_005E']\n",
    "    #total non US citizrns in SC county\n",
    "    santa_clara_nus = c.acs5.state_county('B05001_006E', states.CA.fips, '085', year=year)\n",
    "    tot_sc_nus = 0\n",
    "    for item in santa_clara_nus:\n",
    "        tot_sc_nus =  tot_sc_nus + item['B05001_006E']\n",
    "    #total foreign born in santa clara county\n",
    "    total_fgn_sc = tot_sc_nat+tot_sc_nus\n",
    "    #total San Mateo county -  foreign born(naturalized citizens + non us citizens)\n",
    "    san_mateo_nat = c.acs5.state_county('B05001_005E', states.CA.fips, '081', year=year)\n",
    "    tot_sm_nat = 0\n",
    "    for item in san_mateo_nat:\n",
    "        tot_sm_nat =  tot_sm_nat + item['B05001_005E']\n",
    "    #total non US citizrns in SC county\n",
    "    san_mateo_nus = c.acs5.state_county('B05001_006E', states.CA.fips, '081', year=year)\n",
    "    tot_sm_nus = 0\n",
    "    for item in san_mateo_nus:\n",
    "        tot_sm_nus =  tot_sm_nus + item['B05001_006E']\n",
    "    #total foreign born in santa clara county\n",
    "    total_fgn_sm = tot_sm_nat+tot_sm_nus\n",
    "    #total silicon valley - foreign born (SC county + SM county )\n",
    "    total_fgn_sv  = total_fgn_sm + total_fgn_sc\n",
    "    #total population in silicon valley. - \n",
    "    total_sc = c.acs5.state_county('B05001_002E', states.CA.fips, '085', year=year)\n",
    "    tot_sc = 0\n",
    "    for item in total_sc:\n",
    "        tot_sc =  tot_sc + item['B05001_002E']\n",
    "    total_sm = c.acs5.state_county('B05001_002E', states.CA.fips, '081', year=year)\n",
    "    tot_sm = 0\n",
    "    for item in total_sm:\n",
    "        tot_sm =  tot_sm + item['B05001_002E']\n",
    "    tot_sv = tot_sm + tot_sc\n",
    "    #percentage of silicon valley population\n",
    "    per_fgn_sv = total_fgn_sv/tot_sv\n",
    "    ptg_fgn_sv = per_fgn_sv * 100\n",
    "    ptg_fgn_sv = round(ptg_fgn_sv,2)\n",
    "    return ptg_fgn_sv\n",
    "\n",
    "def bar_graph():\n",
    "    fgn_ca = fgn_born_ca(2015)\n",
    "    fgn_us= fgn_born_us(2015)\n",
    "    fgn_sf = fgn_born_sf(2015)\n",
    "    fgn_sv = fgn_born_sv(2015)\n",
    "    y =[fgn_us,fgn_ca,fgn_sv,fgn_sf]\n",
    "    x = ['US','California','Silicon Valley','SF']\n",
    "    data = [go.Bar(\n",
    "                x=x,\n",
    "                y=y,\n",
    "                text=y,\n",
    "                textposition = 'auto',\n",
    "                marker=dict(\n",
    "                    color='rgb(158,202,225)',\n",
    "                    line=dict(\n",
    "                        color='rgb(8,48,107)',\n",
    "                        width=1.5),\n",
    "                ),\n",
    "                opacity=0.6\n",
    "            )]\n",
    "\n",
    "    return py.iplot(data, filename='bar-direct-labels')\n"
   ]
  },
  {
   "cell_type": "code",
   "execution_count": 11,
   "metadata": {
    "collapsed": false
   },
   "outputs": [
    {
     "data": {
      "text/plain": [
       "13.18"
      ]
     },
     "execution_count": 11,
     "metadata": {},
     "output_type": "execute_result"
    }
   ],
   "source": [
    "\n",
    "fgn_born_us(2015)"
   ]
  },
  {
   "cell_type": "code",
   "execution_count": 12,
   "metadata": {
    "collapsed": false
   },
   "outputs": [
    {
     "data": {
      "text/plain": [
       "37.71"
      ]
     },
     "execution_count": 12,
     "metadata": {},
     "output_type": "execute_result"
    }
   ],
   "source": [
    "fgn_born_ca(2015)"
   ]
  },
  {
   "cell_type": "code",
   "execution_count": 9,
   "metadata": {
    "collapsed": false
   },
   "outputs": [
    {
     "data": {
      "text/plain": [
       "56.04"
      ]
     },
     "execution_count": 9,
     "metadata": {},
     "output_type": "execute_result"
    }
   ],
   "source": [
    "fgn_born_sf(2015)"
   ]
  },
  {
   "cell_type": "code",
   "execution_count": 10,
   "metadata": {
    "collapsed": false
   },
   "outputs": [
    {
     "data": {
      "text/plain": [
       "59.66"
      ]
     },
     "execution_count": 10,
     "metadata": {},
     "output_type": "execute_result"
    }
   ],
   "source": [
    "fgn_born_sv(2015)"
   ]
  },
  {
   "cell_type": "code",
   "execution_count": 14,
   "metadata": {
    "collapsed": false
   },
   "outputs": [
    {
     "data": {
      "text/html": [
       "<iframe id=\"igraph\" scrolling=\"no\" style=\"border:none;\" seamless=\"seamless\" src=\"https://plot.ly/~manika15/51.embed\" height=\"525px\" width=\"100%\"></iframe>"
      ],
      "text/plain": [
       "<plotly.tools.PlotlyDisplay object>"
      ]
     },
     "execution_count": 14,
     "metadata": {},
     "output_type": "execute_result"
    }
   ],
   "source": [
    "bar_graph()"
   ]
  },
  {
   "cell_type": "code",
   "execution_count": null,
   "metadata": {
    "collapsed": true
   },
   "outputs": [],
   "source": []
  }
 ],
 "metadata": {
  "kernelspec": {
   "display_name": "Python 3",
   "language": "python",
   "name": "python3"
  },
  "language_info": {
   "codemirror_mode": {
    "name": "ipython",
    "version": 3
   },
   "file_extension": ".py",
   "mimetype": "text/x-python",
   "name": "python",
   "nbconvert_exporter": "python",
   "pygments_lexer": "ipython3",
   "version": "3.6.0"
  }
 },
 "nbformat": 4,
 "nbformat_minor": 2
}
